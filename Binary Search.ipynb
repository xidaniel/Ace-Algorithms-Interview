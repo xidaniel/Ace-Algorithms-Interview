{
 "cells": [
  {
   "cell_type": "markdown",
   "metadata": {},
   "source": [
    "## T(n) = T(n/2) + O(1)\n",
    "## Time Complexity: O(logn)\n",
    "## Space Complexity: O(1), if use recursion method O(logn)"
   ]
  },
  {
   "cell_type": "markdown",
   "metadata": {},
   "source": [
    "                        [1,2,3,4,5,6,7,8]          n = 8       level 0  \n",
    "                        /               \\\n",
    "                     [1,2,3,4]      [5,6,7,8]      n = 4       level 1\n",
    "                     /      \\\n",
    "                   [1,2]  [3,4]                    n = 2       level 2\n",
    "                   /\n",
    "                 [2]                               n = 1       level 3"
   ]
  },
  {
   "cell_type": "markdown",
   "metadata": {},
   "source": [
    "# Classical code --- sorted list[ ]  LC704"
   ]
  },
  {
   "cell_type": "code",
   "execution_count": 3,
   "metadata": {},
   "outputs": [],
   "source": [
    "## Impletment divide and conquer\n",
    "## find target algorithm\n",
    "class BST:\n",
    "         \n",
    "    def bstIteration(self, a, target):\n",
    "        if not a: return []\n",
    "        \n",
    "        left = 0\n",
    "        right = len(a) - 1\n",
    "\n",
    "        while left <= right:\n",
    "            mid = left + (right - left) // 2\n",
    "            if a[mid] == target:\n",
    "                return mid\n",
    "            elif a[mid] < target:\n",
    "                left = mid + 1             # left = mid  is wrong \n",
    "            else:                          # ex.[1] Infinite loop  \n",
    "                right = mid - 1            # right = mid  is wrong \n",
    "                \n",
    "        return \"Value is not in list\"\n",
    "    \n",
    "    def bstRecursion(self, a, left, right, target):\n",
    "        if not a: return []\n",
    "\n",
    "        if left <= right:\n",
    "            mid = left + (right - left) // 2\n",
    "\n",
    "            if a[mid] == target:\n",
    "                return mid\n",
    "            elif a[mid] < target:\n",
    "                return self.bstRecursion(a, mid + 1, right, target)\n",
    "            else:\n",
    "                return self.bstRecursion(a, left, mid - 1, target)\n",
    "        return 'Value is not in list'"
   ]
  },
  {
   "cell_type": "code",
   "execution_count": 4,
   "metadata": {},
   "outputs": [],
   "source": [
    "values = [1,2,3,28,44,55]\n",
    "left = 0\n",
    "right = len(values) - 1\n",
    "target = 28"
   ]
  },
  {
   "cell_type": "code",
   "execution_count": 5,
   "metadata": {},
   "outputs": [
    {
     "name": "stdout",
     "output_type": "stream",
     "text": [
      "3\n",
      "3\n"
     ]
    }
   ],
   "source": [
    "B = BST()\n",
    "print(B.bstRecursion(values, left, right, target))\n",
    "print(B.bstIteration(values,target))"
   ]
  },
  {
   "cell_type": "markdown",
   "metadata": {},
   "source": [
    "# 1. Two dimensions matrix transform index to row and col LC74 && LC240"
   ]
  },
  {
   "cell_type": "code",
   "execution_count": 7,
   "metadata": {},
   "outputs": [],
   "source": [
    "def matrixSearch(matrix, target):\n",
    "    if not matrix:\n",
    "        return []\n",
    "    \n",
    "    row = len(matrix)\n",
    "    col = len(matrix[0])\n",
    "    left = 0\n",
    "    right = row * col - 1\n",
    "    \n",
    "    while left <= right:\n",
    "        mid = left + (right - left) // 2\n",
    "        r = mid // col                        #!! transform index to row and col\n",
    "        c = mid % col                       \n",
    "        \n",
    "        if matrix[r][c] == target:\n",
    "            return r, c\n",
    "        elif matrix[r][c] < target:\n",
    "            left = mid + 1\n",
    "        else:\n",
    "            right = mid - 1\n",
    "    \n",
    "    return 'Value is not in list'"
   ]
  },
  {
   "cell_type": "code",
   "execution_count": 9,
   "metadata": {},
   "outputs": [
    {
     "data": {
      "text/plain": [
       "(2, 3)"
      ]
     },
     "execution_count": 9,
     "metadata": {},
     "output_type": "execute_result"
    }
   ],
   "source": [
    "m = [[1,2,3,4],[5,6,7,8],[9,10,11,12]]\n",
    "target = 12\n",
    "matrixSearch(m, target)"
   ]
  },
  {
   "cell_type": "markdown",
   "metadata": {},
   "source": [
    "# 2. Find one closest number\n",
    "\n",
    "## We have to do post processing "
   ]
  },
  {
   "cell_type": "code",
   "execution_count": 10,
   "metadata": {},
   "outputs": [],
   "source": [
    "def searchClose(a, target):\n",
    "    if not a: return []\n",
    "    left = 0\n",
    "    right = len(a) - 1\n",
    "    \n",
    "    while left < right - 1:\n",
    "        mid = left + (right - left) // 2\n",
    "        if a[mid] == target:\n",
    "            return mid\n",
    "        elif a[mid] < target:\n",
    "            left = mid         # mid + 1 is wrong\n",
    "        else:\n",
    "            right = mid        # mid - 1 is wrong\n",
    "            \n",
    "    \n",
    "    # Post processing\n",
    "    \n",
    "    if abs(a[left] - target) < abs(a[right] - target):\n",
    "        return left\n",
    "    else:\n",
    "        return right"
   ]
  },
  {
   "cell_type": "code",
   "execution_count": 11,
   "metadata": {},
   "outputs": [
    {
     "data": {
      "text/plain": [
       "4"
      ]
     },
     "execution_count": 11,
     "metadata": {},
     "output_type": "execute_result"
    }
   ],
   "source": [
    "a  = [1,2,3,4,6,8,9]\n",
    "target = 5\n",
    "searchClose(a, target)"
   ]
  },
  {
   "cell_type": "markdown",
   "metadata": {},
   "source": [
    "# 3. Return the index of the first occurrence of an element  LC34"
   ]
  },
  {
   "cell_type": "code",
   "execution_count": 12,
   "metadata": {},
   "outputs": [],
   "source": [
    "def find_first_occ(a, target):\n",
    "    if not a: return []\n",
    "    \n",
    "    left = 0\n",
    "    right = len(a) - 1\n",
    "    \n",
    "    while left < right - 1:\n",
    "        mid = left + (right - left) // 2\n",
    "        if a[mid] == target:\n",
    "            right = mid                       ###find the last## left = mid    \n",
    "        elif a[mid] < target:\n",
    "            left = mid     # mid + 1 is ok\n",
    "        else:\n",
    "            right = mid    # mid - 1  is ok\n",
    "            \n",
    "    if a[left] == target:                    ### find the last## a[right] == target\n",
    "        return left\n",
    "    else:\n",
    "        return right"
   ]
  },
  {
   "cell_type": "code",
   "execution_count": 13,
   "metadata": {},
   "outputs": [
    {
     "data": {
      "text/plain": [
       "2"
      ]
     },
     "execution_count": 13,
     "metadata": {},
     "output_type": "execute_result"
    }
   ],
   "source": [
    "a = [2,4,5,5,5,5,5,6,7,8]\n",
    "target = 5\n",
    "find_first_occ(a, target)"
   ]
  },
  {
   "cell_type": "markdown",
   "metadata": {},
   "source": [
    "# 4. Find K elements in the sorted array in ascending order that is colsest to the target number with non-nagative\n",
    "- binary search to find closest index\n",
    "- From middle to the sides\n",
    "- Time = O(log(n) + k)"
   ]
  },
  {
   "cell_type": "code",
   "execution_count": 14,
   "metadata": {},
   "outputs": [],
   "source": [
    "def kElements(array, target, k):\n",
    "    if not array or k >= len(array):\n",
    "        return array\n",
    "    if k == 0:\n",
    "        return []\n",
    "    \n",
    "    ans = []\n",
    "    \n",
    "    index = searchClose(array, target)\n",
    "    ans.append(array[index])\n",
    "    \n",
    "    left = index - 1\n",
    "    right = index + 1\n",
    "    \n",
    "    for i in range(0, k - 1):\n",
    "        if (target - array[left]) < (array[right] - target):\n",
    "            ans.append(array[left])\n",
    "            left -= 1\n",
    "        else:\n",
    "            ans.append(array[right])\n",
    "            right += 1\n",
    "    \n",
    "    return ans\n",
    "\n",
    "\n",
    "def searchClose(array, target):\n",
    "    if not a: return []\n",
    "    left = 0\n",
    "    right = len(a) - 1\n",
    "    \n",
    "    while left < right - 1:\n",
    "        mid = left + (right - left) // 2\n",
    "        if a[mid] == target:\n",
    "            return mid\n",
    "        elif a[mid] < target:\n",
    "            left = mid         # mid + 1 is wrong\n",
    "        else:\n",
    "            right = mid        # mid - 1 is wrong\n",
    "            \n",
    "    \n",
    "    # Post processing\n",
    "    if abs(a[left] - target) < abs(a[right] - target):\n",
    "        return left\n",
    "    else:\n",
    "        return right"
   ]
  },
  {
   "cell_type": "code",
   "execution_count": 15,
   "metadata": {},
   "outputs": [
    {
     "data": {
      "text/plain": [
       "[6, 4, 7, 3, 8, 2, 9]"
      ]
     },
     "execution_count": 15,
     "metadata": {},
     "output_type": "execute_result"
    }
   ],
   "source": [
    "array = [1,2,3,4,6,7,8,9]\n",
    "k = 7\n",
    "target = 5\n",
    "kElements(array, target, k)"
   ]
  },
  {
   "cell_type": "markdown",
   "metadata": {},
   "source": [
    "# 5. Given a sorted dictionary with unknow size, how to detemine whether a word is in this dictionary or not.\n",
    "## Assumption: if a[index] == NULL then we know the size of dictionary is < index"
   ]
  }
 ],
 "metadata": {
  "kernelspec": {
   "display_name": "Python 3",
   "language": "python",
   "name": "python3"
  },
  "language_info": {
   "codemirror_mode": {
    "name": "ipython",
    "version": 3
   },
   "file_extension": ".py",
   "mimetype": "text/x-python",
   "name": "python",
   "nbconvert_exporter": "python",
   "pygments_lexer": "ipython3",
   "version": "3.7.5"
  }
 },
 "nbformat": 4,
 "nbformat_minor": 2
}
