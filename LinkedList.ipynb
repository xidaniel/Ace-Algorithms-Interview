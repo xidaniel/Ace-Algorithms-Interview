{
 "cells": [
  {
   "cell_type": "markdown",
   "metadata": {},
   "source": [
    "# Key points:\n",
    "1. When you want to *de-reference(p.value)* a ListNode, make sure it is not a NULL pointer\n",
    "2. Never ever lost the control of the head pointer of the LinkedList\n",
    "\n",
    "3. Why or when should we use a dummy node?\n",
    "   - Answer: When we want to append new elements to an initially empty linkedlist, we do not have an initial head node.\n",
    "   \n",
    "4. Be careful about two corner cases: head and tail"
   ]
  },
  {
   "cell_type": "markdown",
   "metadata": {},
   "source": [
    "# Define a ListNode Class"
   ]
  },
  {
   "cell_type": "code",
   "execution_count": 73,
   "metadata": {},
   "outputs": [],
   "source": [
    "class ListNode:\n",
    "    def __init__(self, x):\n",
    "        self.val = x\n",
    "        self.next = None\n",
    "        \n",
    "    def __str__(self):\n",
    "        return '{} -> {}'.format(self.val, self.next)"
   ]
  },
  {
   "cell_type": "markdown",
   "metadata": {},
   "source": [
    "# 1. Reverse linkedlist    lc209"
   ]
  },
  {
   "cell_type": "code",
   "execution_count": 74,
   "metadata": {},
   "outputs": [],
   "source": [
    "# 1 -> 2 -> 3 -> 4 -> Null\n",
    "# 4 -> 3 -> 2 -> 1 -> Null\n",
    "def reverse_linkedlist(head):   #time complexity O(n)\n",
    "    if not head:\n",
    "        return None\n",
    "    \n",
    "    prev = None\n",
    "    cur = head\n",
    "    \n",
    "    while cur:\n",
    "        next_node = cur.next\n",
    "        cur.next = prev\n",
    "        prev = cur\n",
    "        cur = next_node\n",
    "        \n",
    "    return prev\n",
    "\n",
    "\n",
    "def reverse_linkedlist_re(head):\n",
    "    def helper(head, node):\n",
    "        if not head:\n",
    "            return node\n",
    "        tmp = head.next\n",
    "        head.next = node\n",
    "        return helper(tmp, head)\n",
    "    return helper(head, None)"
   ]
  },
  {
   "cell_type": "code",
   "execution_count": 75,
   "metadata": {},
   "outputs": [
    {
     "name": "stdout",
     "output_type": "stream",
     "text": [
      "1 -> 2 -> 3 -> 4 -> None\n"
     ]
    }
   ],
   "source": [
    "# Define a linkedlist\n",
    "head = ListNode(1)\n",
    "head.next = ListNode(2)\n",
    "head.next.next = ListNode(3)\n",
    "head.next.next.next = ListNode(4)\n",
    "\n",
    "# Print linkedlist\n",
    "print(head)"
   ]
  },
  {
   "cell_type": "code",
   "execution_count": 76,
   "metadata": {},
   "outputs": [
    {
     "name": "stdout",
     "output_type": "stream",
     "text": [
      "4 -> 3 -> 2 -> 1 -> None\n"
     ]
    }
   ],
   "source": [
    "print(reverse_linkedlist(head))"
   ]
  },
  {
   "cell_type": "markdown",
   "metadata": {},
   "source": [
    "# 2. How to find the middle node of a linked list?  lc876\n",
    "- if node is odd -> return middle\n",
    "- if node is even -> return first middle node by changeing fast pointer location initlized"
   ]
  },
  {
   "cell_type": "code",
   "execution_count": 77,
   "metadata": {},
   "outputs": [],
   "source": [
    "# 1 -> 2 -> 3 -> 4 -> Null\n",
    "def middle_node(head):        # time complexity O(n/2) ~ O(n)\n",
    "    if not head:\n",
    "        return None\n",
    "    \n",
    "    slow, fast = head, head.next  ## return first middle node\n",
    "    \n",
    "    while fast and fast.next:\n",
    "        slow = slow.next\n",
    "        fast = fast.next.next\n",
    "        \n",
    "    return slow"
   ]
  },
  {
   "cell_type": "code",
   "execution_count": 78,
   "metadata": {},
   "outputs": [
    {
     "name": "stdout",
     "output_type": "stream",
     "text": [
      "5 -> 6 -> 7 -> 8 -> None\n"
     ]
    }
   ],
   "source": [
    "# Define a linkedlist\n",
    "\n",
    "head = ListNode(5)\n",
    "head.next = ListNode(6)\n",
    "head.next.next = ListNode(7)\n",
    "head.next.next.next = ListNode(8)\n",
    "print(head)\n",
    "# Print linkedlist\n",
    "cur = head"
   ]
  },
  {
   "cell_type": "code",
   "execution_count": 79,
   "metadata": {},
   "outputs": [
    {
     "name": "stdout",
     "output_type": "stream",
     "text": [
      "6\n"
     ]
    }
   ],
   "source": [
    "print(middle_node(head).val)"
   ]
  },
  {
   "cell_type": "markdown",
   "metadata": {},
   "source": [
    "# 3.  How to find if there is a cycle in a linked list?  lc141"
   ]
  },
  {
   "cell_type": "code",
   "execution_count": 80,
   "metadata": {},
   "outputs": [],
   "source": [
    "def has_cycle(head):    # time complexity O(n)  space complexity O(1)\n",
    "    if not head:\n",
    "        return False\n",
    "    \n",
    "    slow, fast = head, head\n",
    "    \n",
    "    while fast and fast.next:\n",
    "        slow = slow.next\n",
    "        fast = fast.next.next\n",
    "        \n",
    "        if slow == fast:\n",
    "            return True\n",
    "    \n",
    "    return False\n",
    "\n",
    "def has_cycle_set(head):  # time complexity O(n)  space complexity O(n)\n",
    "    if not head:\n",
    "        return False\n",
    "    \n",
    "    cur = head \n",
    "    match = set()\n",
    "    match.add(cur)\n",
    "    \n",
    "    while cur:\n",
    "        cur = cur.next\n",
    "        if cur in match:\n",
    "            return True\n",
    "        match.add(cur)\n",
    "    \n",
    "    return False"
   ]
  },
  {
   "cell_type": "code",
   "execution_count": 81,
   "metadata": {},
   "outputs": [],
   "source": [
    "## define a cycle linkedlist\n",
    "\"\"\"\n",
    "  1 -> 2 -> 3 -> 4\n",
    "       ^         |\n",
    "       |         |\n",
    "        ---------\n",
    "\"\"\"\n",
    "cycle = ListNode(1)\n",
    "cycle.next = ListNode(2)\n",
    "cycle.next.next = ListNode(3)\n",
    "cycle.next.next.next = ListNode(4)\n",
    "cycle.next.next.next.next = cycle.next"
   ]
  },
  {
   "cell_type": "code",
   "execution_count": 82,
   "metadata": {},
   "outputs": [
    {
     "data": {
      "text/plain": [
       "True"
      ]
     },
     "execution_count": 82,
     "metadata": {},
     "output_type": "execute_result"
    }
   ],
   "source": [
    "has_cycle_set(cycle)"
   ]
  },
  {
   "cell_type": "markdown",
   "metadata": {},
   "source": [
    "# 4. Insert a node in a sorted linked list?\n",
    "- Be careful about two corner cases: head and tail"
   ]
  },
  {
   "cell_type": "code",
   "execution_count": 136,
   "metadata": {},
   "outputs": [],
   "source": [
    "'''\n",
    "Input: \n",
    "      3 -> 6 -> 10 -> 17 -> Null\n",
    "      target = 7\n",
    "      \n",
    "Output:\n",
    "      3 -> 6 -> 7 -> 10 -> 17 -> Null\n",
    "'''\n",
    "def insert_node(head, node):\n",
    "    cur = head\n",
    "\n",
    "    while cur:\n",
    "        if cur.val >= node.val:\n",
    "            node.next = cur\n",
    "            return node\n",
    "        elif cur.val < node.val and cur.next == None:\n",
    "            cur.next = node\n",
    "            return head\n",
    "        elif cur.val < node.val and cur.next.val >= node.val:\n",
    "            temp = cur.next\n",
    "            cur.next = node\n",
    "            node.next = temp\n",
    "            return head\n",
    "        \n",
    "        cur = cur.next\n",
    "    "
   ]
  },
  {
   "cell_type": "code",
   "execution_count": 142,
   "metadata": {},
   "outputs": [
    {
     "name": "stdout",
     "output_type": "stream",
     "text": [
      "3 -> 6 -> 10 -> 17 -> None\n"
     ]
    }
   ],
   "source": [
    "# Define a linkedlist\n",
    "head = ListNode(3)\n",
    "head.next = ListNode(6)\n",
    "head.next.next = ListNode(10)\n",
    "head.next.next.next = ListNode(17)\n",
    "\n",
    "# Print linkedlist\n",
    "print(head)"
   ]
  },
  {
   "cell_type": "code",
   "execution_count": 143,
   "metadata": {},
   "outputs": [
    {
     "name": "stdout",
     "output_type": "stream",
     "text": [
      "Target: 1 -> None\n",
      "1 -> 3 -> 6 -> 10 -> 17 -> None\n"
     ]
    }
   ],
   "source": [
    "# Define node\n",
    "node = ListNode(1)\n",
    "print('Target:', node)\n",
    "head = insert_node(head, node)\n",
    "print(head)"
   ]
  },
  {
   "cell_type": "markdown",
   "metadata": {},
   "source": [
    "# 5. How to merge two sorted linkedlist into one long sorted linked list?\n",
    " - In this case, we can new a dummy node to act as a head node"
   ]
  },
  {
   "cell_type": "code",
   "execution_count": 86,
   "metadata": {},
   "outputs": [],
   "source": [
    "def merge_two_linkedlist(l1, l2):\n",
    "    dummy = ListNode(0)\n",
    "    cur = dummy\n",
    "    \n",
    "    while l1 and l2:\n",
    "        if l1.val < l2.val:\n",
    "            cur.next = l1\n",
    "            l1 = l1.next\n",
    "        else:\n",
    "            cur.next = l2\n",
    "            l2 = l2.next\n",
    "        cur = cur.next\n",
    "        \n",
    "    cur.next = l1 if l1 else l2\n",
    "    \n",
    "    return dummy.next"
   ]
  },
  {
   "cell_type": "code",
   "execution_count": 87,
   "metadata": {},
   "outputs": [],
   "source": [
    "# Define two linkedlist\n",
    "l1 = ListNode(2)\n",
    "l1.next = ListNode(3)\n",
    "l1.next.next = ListNode(7)\n",
    "l1.next.next.next = ListNode(8)\n",
    "\n",
    "\n",
    "l2 = ListNode(1)\n",
    "l2.next = ListNode(3)\n",
    "l2.next.next = ListNode(5)\n",
    "l2.next.next.next = ListNode(9)\n",
    "l2.next.next.next.next = ListNode(11)\n"
   ]
  },
  {
   "cell_type": "code",
   "execution_count": 88,
   "metadata": {},
   "outputs": [
    {
     "name": "stdout",
     "output_type": "stream",
     "text": [
      "1 -> 2 -> 3 -> 3 -> 5 -> 7 -> 8 -> 9 -> 11 -> None\n"
     ]
    }
   ],
   "source": [
    "'''\n",
    "Input:\n",
    "2 -> 3 -> 7 -> 8\n",
    "1 -> 3 -> 5 -> 9 -> 11\n",
    "Output:\n",
    "1 -> 2 -> 3 -> 3 -> 5 -> 7 -> 8 -> 9 -> 11\n",
    "'''\n",
    "print(merge_two_linkedlist(l1, l2))"
   ]
  },
  {
   "cell_type": "markdown",
   "metadata": {},
   "source": [
    "# 6. Add Two Numbers lc2\n",
    "Constrains: not-empty, non-negative integers\n",
    "\n",
    "Input:\n",
    "\n",
    "2 -> 3 -> 7 -> 8\n",
    "\n",
    "1 -> 3 -> 5 -> 9 -> 11\n",
    "       \n",
    "Output:\n",
    "\n",
    "3 -> 6 -> 2 -> 8 -> 2 -> 1"
   ]
  },
  {
   "cell_type": "code",
   "execution_count": 89,
   "metadata": {},
   "outputs": [],
   "source": [
    "def add_two_numbers(l1, l2):\n",
    "    dummy = cur = ListNode(0)\n",
    "    carry = 0\n",
    "    \n",
    "    while l1 or l2 or carry:\n",
    "        if l1:\n",
    "            carry += l1.val\n",
    "            l1 = l1.next\n",
    "        if l2:\n",
    "            carry += l2.val\n",
    "            l2 = l2.next\n",
    "            \n",
    "        cur.next = ListNode(carry % 10)\n",
    "        carry //= 10\n",
    "        cur = cur.next\n",
    "        \n",
    "    return dummy.next"
   ]
  },
  {
   "cell_type": "code",
   "execution_count": 90,
   "metadata": {},
   "outputs": [],
   "source": [
    "# Define two linkedlist\n",
    "'''\n",
    "Input: 2 -> 3 -> 7 -> 8\n",
    "       1 -> 3 -> 5 -> 9 -> 11\n",
    "       \n",
    "Output: 3 -> 6 -> 2 -> 8 -> 2 -> 1\n",
    "'''\n",
    "l1 = ListNode(2)\n",
    "l1.next = ListNode(3)\n",
    "l1.next.next = ListNode(7)\n",
    "l1.next.next.next = ListNode(8)\n",
    "\n",
    "\n",
    "l2 = ListNode(1)\n",
    "l2.next = ListNode(3)\n",
    "l2.next.next = ListNode(5)\n",
    "l2.next.next.next = ListNode(9)\n",
    "l2.next.next.next.next = ListNode(11)"
   ]
  },
  {
   "cell_type": "code",
   "execution_count": 91,
   "metadata": {},
   "outputs": [
    {
     "name": "stdout",
     "output_type": "stream",
     "text": [
      "3 -> 6 -> 2 -> 8 -> 2 -> 1 -> None\n"
     ]
    }
   ],
   "source": [
    "print(add_two_numbers(l1, l2))"
   ]
  },
  {
   "cell_type": "markdown",
   "metadata": {},
   "source": [
    "# 7. N1 --> N2 --> N3 --> N4 --> ....-->Nn\n",
    "To N1 --> Nn --> N2-->Nn-1\n",
    "- Find the middle node of the linkedlist\n",
    "- reverse the 2nd half\n",
    "- Merger two linkedlist into one long linkedlist"
   ]
  },
  {
   "cell_type": "code",
   "execution_count": null,
   "metadata": {},
   "outputs": [],
   "source": [
    "from Node import Node\n",
    "\n",
    "class LinkedList:\n",
    "    def __init__(self, value=None):\n",
    "        self.head_node = Node(value)\n",
    "  \n",
    "    def head(self):\n",
    "        return self.head_node\n",
    "  \n",
    "    def insert_beginning(self, new_value):\n",
    "        new_node = Node(new_value)\n",
    "        new_node.set_next_node(self.head_node)\n",
    "        self.head_node = new_node\n",
    "    \n",
    "    def stringify_list(self):\n",
    "        string_list = \"\"\n",
    "        current_node = self.head()\n",
    "        while current_node:\n",
    "            if current_node.get_value() != None:\n",
    "                string_list += str(current_node.get_value()) + \"\\n\"\n",
    "            current_node = current_node.get_next_node()\n",
    "        return string_list\n",
    "  \n",
    "    def remove_node(self, value_to_remove):\n",
    "        current_node = self.get_head_node()\n",
    "        if current_node.get_value() == value_to_remove:\n",
    "            self.head_node = current_node.get_next_node()\n",
    "        else:\n",
    "            while current_node:\n",
    "                next_node = current_node.get_next_node()\n",
    "                if next_node.get_value() == value_to_remove:\n",
    "                    current_node.set_next_node(next_node.get_next_node())\n",
    "                    current_node = None\n",
    "                else:\n",
    "                    current_node = next_node\n",
    "       \n",
    "    def remove_all(self, value_to_remove):\n",
    "        current_node = self.get_head_node()\n",
    "        if current_node.get_value() == value_to_remove():\n",
    "            self.head_node = current_node.get_next_node()"
   ]
  }
 ],
 "metadata": {
  "kernelspec": {
   "display_name": "Python 3",
   "language": "python",
   "name": "python3"
  },
  "language_info": {
   "codemirror_mode": {
    "name": "ipython",
    "version": 3
   },
   "file_extension": ".py",
   "mimetype": "text/x-python",
   "name": "python",
   "nbconvert_exporter": "python",
   "pygments_lexer": "ipython3",
   "version": "3.7.5"
  }
 },
 "nbformat": 4,
 "nbformat_minor": 2
}
